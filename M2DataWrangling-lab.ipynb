{
 "cells": [
  {
   "cell_type": "markdown",
   "metadata": {},
   "source": [
    "<p style=\"text-align:center\">\n",
    "    <a href=\"https://skills.network/?utm_medium=Exinfluencer&utm_source=Exinfluencer&utm_content=000026UJ&utm_term=10006555&utm_id=NA-SkillsNetwork-Channel-SkillsNetworkCoursesIBMDA0321ENSkillsNetwork928-2022-01-01\" target=\"_blank\">\n",
    "    <img src=\"https://cf-courses-data.s3.us.cloud-object-storage.appdomain.cloud/assets/logos/SN_web_lightmode.png\" width=\"200\" alt=\"Skills Network Logo\"  />\n",
    "    </a>\n",
    "</p>\n"
   ]
  },
  {
   "cell_type": "markdown",
   "metadata": {},
   "source": [
    "# **Data Wrangling Lab**\n"
   ]
  },
  {
   "cell_type": "markdown",
   "metadata": {},
   "source": [
    "Estimated time needed: **45 to 60** minutes\n"
   ]
  },
  {
   "cell_type": "markdown",
   "metadata": {},
   "source": [
    "In this assignment you will be performing data wrangling.\n"
   ]
  },
  {
   "cell_type": "markdown",
   "metadata": {},
   "source": [
    "## Objectives\n"
   ]
  },
  {
   "cell_type": "markdown",
   "metadata": {},
   "source": [
    "In this lab you will perform the following:\n"
   ]
  },
  {
   "cell_type": "markdown",
   "metadata": {},
   "source": [
    "-   Identify duplicate values in the dataset.\n",
    "\n",
    "-   Remove duplicate values from the dataset.\n",
    "\n",
    "-   Identify missing values in the dataset.\n",
    "\n",
    "-   Impute the missing values in the dataset.\n",
    "\n",
    "-   Normalize data in the dataset.\n"
   ]
  },
  {
   "cell_type": "markdown",
   "metadata": {},
   "source": [
    "<hr>\n"
   ]
  },
  {
   "cell_type": "markdown",
   "metadata": {},
   "source": [
    "## Hands on Lab\n"
   ]
  },
  {
   "cell_type": "markdown",
   "metadata": {},
   "source": [
    "Import pandas module.\n"
   ]
  },
  {
   "cell_type": "code",
   "execution_count": 1,
   "metadata": {},
   "outputs": [],
   "source": [
    "import pandas as pd"
   ]
  },
  {
   "cell_type": "markdown",
   "metadata": {},
   "source": [
    "Load the dataset into a dataframe.\n"
   ]
  },
  {
   "cell_type": "code",
   "execution_count": 2,
   "metadata": {},
   "outputs": [],
   "source": [
    "df = pd.read_csv(\"https://cf-courses-data.s3.us.cloud-object-storage.appdomain.cloud/IBM-DA0321EN-SkillsNetwork/LargeData/m1_survey_data.csv\")"
   ]
  },
  {
   "cell_type": "markdown",
   "metadata": {},
   "source": [
    "## Finding duplicates\n"
   ]
  },
  {
   "cell_type": "markdown",
   "metadata": {},
   "source": [
    "In this section you will identify duplicate values in the dataset.\n"
   ]
  },
  {
   "cell_type": "markdown",
   "metadata": {},
   "source": [
    " Find how many duplicate rows exist in the dataframe.\n"
   ]
  },
  {
   "cell_type": "code",
   "execution_count": 3,
   "metadata": {},
   "outputs": [],
   "source": [
    "duplicate_rows = df[df.duplicated()]"
   ]
  },
  {
   "cell_type": "code",
   "execution_count": 9,
   "metadata": {},
   "outputs": [],
   "source": [
    "df = df.drop_duplicates()"
   ]
  },
  {
   "cell_type": "markdown",
   "metadata": {},
   "source": [
    "## Removing duplicates\n"
   ]
  },
  {
   "cell_type": "markdown",
   "metadata": {},
   "source": [
    "Remove the duplicate rows from the dataframe.\n"
   ]
  },
  {
   "cell_type": "code",
   "execution_count": 11,
   "metadata": {},
   "outputs": [
    {
     "data": {
      "text/plain": [
       "0"
      ]
     },
     "execution_count": 11,
     "metadata": {},
     "output_type": "execute_result"
    }
   ],
   "source": [
    "df['Country'].isna().sum()"
   ]
  },
  {
   "cell_type": "code",
   "execution_count": 24,
   "metadata": {},
   "outputs": [
    {
     "name": "stdout",
     "output_type": "stream",
     "text": [
      "<class 'pandas.core.frame.DataFrame'>\n",
      "Index: 11398 entries, 0 to 11551\n",
      "Data columns (total 85 columns):\n",
      " #   Column                  Non-Null Count  Dtype  \n",
      "---  ------                  --------------  -----  \n",
      " 0   Respondent              11398 non-null  int64  \n",
      " 1   MainBranch              11398 non-null  object \n",
      " 2   Hobbyist                11398 non-null  object \n",
      " 3   OpenSourcer             11398 non-null  object \n",
      " 4   OpenSource              11317 non-null  object \n",
      " 5   Employment              11398 non-null  object \n",
      " 6   Country                 11398 non-null  object \n",
      " 7   Student                 11347 non-null  object \n",
      " 8   EdLevel                 11286 non-null  object \n",
      " 9   UndergradMajor          10661 non-null  object \n",
      " 10  EduOther                11234 non-null  object \n",
      " 11  OrgSize                 11302 non-null  object \n",
      " 12  DevType                 11333 non-null  object \n",
      " 13  YearsCode               11389 non-null  object \n",
      " 14  Age1stCode              11385 non-null  object \n",
      " 15  YearsCodePro            11382 non-null  object \n",
      " 16  CareerSat               11398 non-null  object \n",
      " 17  JobSat                  11397 non-null  object \n",
      " 18  MgrIdiot                10905 non-null  object \n",
      " 19  MgrMoney                10901 non-null  object \n",
      " 20  MgrWant                 10905 non-null  object \n",
      " 21  JobSeek                 11398 non-null  object \n",
      " 22  LastHireDate            11398 non-null  object \n",
      " 23  LastInt                 10985 non-null  object \n",
      " 24  FizzBuzz                11361 non-null  object \n",
      " 25  JobFactors              11395 non-null  object \n",
      " 26  ResumeUpdate            11359 non-null  object \n",
      " 27  CurrencySymbol          11398 non-null  object \n",
      " 28  CurrencyDesc            11398 non-null  object \n",
      " 29  CompTotal               10589 non-null  float64\n",
      " 30  CompFreq                11192 non-null  object \n",
      " 31  ConvertedComp           10582 non-null  float64\n",
      " 32  WorkWeekHrs             11276 non-null  float64\n",
      " 33  WorkPlan                11277 non-null  object \n",
      " 34  WorkChallenge           11234 non-null  object \n",
      " 35  WorkRemote              11390 non-null  object \n",
      " 36  WorkLoc                 11366 non-null  object \n",
      " 37  ImpSyn                  11393 non-null  object \n",
      " 38  CodeRev                 11397 non-null  object \n",
      " 39  CodeRevHrs              8972 non-null   float64\n",
      " 40  UnitTests               11369 non-null  object \n",
      " 41  PurchaseHow             11202 non-null  object \n",
      " 42  PurchaseWhat            11360 non-null  object \n",
      " 43  LanguageWorkedWith      11387 non-null  object \n",
      " 44  LanguageDesireNextYear  11264 non-null  object \n",
      " 45  DatabaseWorkedWith      10945 non-null  object \n",
      " 46  DatabaseDesireNextYear  10356 non-null  object \n",
      " 47  PlatformWorkedWith      10987 non-null  object \n",
      " 48  PlatformDesireNextYear  10854 non-null  object \n",
      " 49  WebFrameWorkedWith      10005 non-null  object \n",
      " 50  WebFrameDesireNextYear  9781 non-null   object \n",
      " 51  MiscTechWorkedWith      9216 non-null   object \n",
      " 52  MiscTechDesireNextYear  9943 non-null   object \n",
      " 53  DevEnviron              11369 non-null  object \n",
      " 54  OpSys                   11364 non-null  object \n",
      " 55  Containers              11316 non-null  object \n",
      " 56  BlockchainOrg           9076 non-null   object \n",
      " 57  BlockchainIs            8788 non-null   object \n",
      " 58  BetterLife              11300 non-null  object \n",
      " 59  ITperson                11363 non-null  object \n",
      " 60  OffOn                   11360 non-null  object \n",
      " 61  SocialMedia             11105 non-null  object \n",
      " 62  Extraversion            11378 non-null  object \n",
      " 63  ScreenName              10891 non-null  object \n",
      " 64  SOVisit1st              11073 non-null  object \n",
      " 65  SOVisitFreq             11393 non-null  object \n",
      " 66  SOVisitTo               11397 non-null  object \n",
      " 67  SOFindAnswer            11395 non-null  object \n",
      " 68  SOTimeSaved             11348 non-null  object \n",
      " 69  SOHowMuchTime           9481 non-null   object \n",
      " 70  SOAccount               11397 non-null  object \n",
      " 71  SOPartFreq              10270 non-null  object \n",
      " 72  SOJobs                  11392 non-null  object \n",
      " 73  EntTeams                11393 non-null  object \n",
      " 74  SOComm                  11398 non-null  object \n",
      " 75  WelcomeChange           11313 non-null  object \n",
      " 76  SONewContent            9433 non-null   object \n",
      " 77  Age                     11111 non-null  float64\n",
      " 78  Gender                  11325 non-null  object \n",
      " 79  Trans                   11275 non-null  object \n",
      " 80  Sexuality               10856 non-null  object \n",
      " 81  Ethnicity               10723 non-null  object \n",
      " 82  Dependents              11258 non-null  object \n",
      " 83  SurveyLength            11379 non-null  object \n",
      " 84  SurveyEase              11384 non-null  object \n",
      "dtypes: float64(5), int64(1), object(79)\n",
      "memory usage: 7.5+ MB\n"
     ]
    }
   ],
   "source": [
    "df.info()"
   ]
  },
  {
   "cell_type": "markdown",
   "metadata": {},
   "source": [
    "Verify if duplicates were actually dropped.\n"
   ]
  },
  {
   "cell_type": "code",
   "execution_count": null,
   "metadata": {},
   "outputs": [],
   "source": [
    "# your code goes here\n"
   ]
  },
  {
   "cell_type": "markdown",
   "metadata": {},
   "source": [
    "## Finding Missing values\n"
   ]
  },
  {
   "cell_type": "markdown",
   "metadata": {},
   "source": [
    "Find the missing values for all columns.\n"
   ]
  },
  {
   "cell_type": "code",
   "execution_count": 1,
   "metadata": {},
   "outputs": [],
   "source": [
    "# your code goes here\n"
   ]
  },
  {
   "cell_type": "markdown",
   "metadata": {},
   "source": [
    "Find out how many rows are missing in the column 'WorkLoc'\n"
   ]
  },
  {
   "cell_type": "code",
   "execution_count": null,
   "metadata": {},
   "outputs": [],
   "source": [
    "# your code goes here"
   ]
  },
  {
   "cell_type": "markdown",
   "metadata": {},
   "source": [
    "## Imputing missing values\n"
   ]
  },
  {
   "cell_type": "markdown",
   "metadata": {},
   "source": [
    "Find the  value counts for the column WorkLoc.\n"
   ]
  },
  {
   "cell_type": "code",
   "execution_count": null,
   "metadata": {},
   "outputs": [],
   "source": [
    "# your code goes here\n"
   ]
  },
  {
   "cell_type": "markdown",
   "metadata": {},
   "source": [
    "Identify the value that is most frequent (majority) in the WorkLoc column.\n"
   ]
  },
  {
   "cell_type": "code",
   "execution_count": 2,
   "metadata": {},
   "outputs": [],
   "source": [
    "#make a note of the majority value here, for future reference\n",
    "#"
   ]
  },
  {
   "cell_type": "markdown",
   "metadata": {},
   "source": [
    "Impute (replace) all the empty rows in the column WorkLoc with the value that you have identified as majority.\n"
   ]
  },
  {
   "cell_type": "code",
   "execution_count": null,
   "metadata": {},
   "outputs": [],
   "source": [
    "# your code goes here\n"
   ]
  },
  {
   "cell_type": "markdown",
   "metadata": {},
   "source": [
    "After imputation there should ideally not be any empty rows in the WorkLoc column.\n"
   ]
  },
  {
   "cell_type": "markdown",
   "metadata": {},
   "source": [
    "Verify if imputing was successful.\n"
   ]
  },
  {
   "cell_type": "code",
   "execution_count": null,
   "metadata": {},
   "outputs": [],
   "source": [
    "# your code goes here\n"
   ]
  },
  {
   "cell_type": "code",
   "execution_count": 13,
   "metadata": {},
   "outputs": [
    {
     "data": {
      "text/plain": [
       "Employment\n",
       "Employed full-time    10968\n",
       "Employed part-time      430\n",
       "Name: count, dtype: int64"
      ]
     },
     "execution_count": 13,
     "metadata": {},
     "output_type": "execute_result"
    }
   ],
   "source": [
    "df['Employment'].value_counts()"
   ]
  },
  {
   "cell_type": "code",
   "execution_count": 14,
   "metadata": {},
   "outputs": [
    {
     "data": {
      "text/plain": [
       "UndergradMajor\n",
       "Computer science, computer engineering, or software engineering          6953\n",
       "Information systems, information technology, or system administration     794\n",
       "Another engineering discipline (ex. civil, electrical, mechanical)        759\n",
       "Web development or web design                                             410\n",
       "A natural science (ex. biology, chemistry, physics)                       403\n",
       "Mathematics or statistics                                                 372\n",
       "A business discipline (ex. accounting, finance, marketing)                244\n",
       "A social science (ex. anthropology, psychology, political science)        210\n",
       "A humanities discipline (ex. literature, history, philosophy)             207\n",
       "Fine arts or performing arts (ex. graphic design, music, studio art)      161\n",
       "I never declared a major                                                  124\n",
       "A health science (ex. nursing, pharmacy, radiology)                        24\n",
       "Name: count, dtype: int64"
      ]
     },
     "execution_count": 14,
     "metadata": {},
     "output_type": "execute_result"
    }
   ],
   "source": [
    "df['UndergradMajor'].value_counts()"
   ]
  },
  {
   "cell_type": "code",
   "execution_count": 15,
   "metadata": {},
   "outputs": [
    {
     "data": {
      "text/plain": [
       "3"
      ]
     },
     "execution_count": 15,
     "metadata": {},
     "output_type": "execute_result"
    }
   ],
   "source": [
    "df['CompFreq'].nunique()"
   ]
  },
  {
   "cell_type": "code",
   "execution_count": 17,
   "metadata": {},
   "outputs": [
    {
     "data": {
      "text/plain": [
       "6073"
      ]
     },
     "execution_count": 17,
     "metadata": {},
     "output_type": "execute_result"
    }
   ],
   "source": [
    "df[df['CompFreq'] == 'Yearly'].shape[0]"
   ]
  },
  {
   "cell_type": "code",
   "execution_count": 25,
   "metadata": {},
   "outputs": [
    {
     "data": {
      "text/plain": [
       "29.0"
      ]
     },
     "execution_count": 25,
     "metadata": {},
     "output_type": "execute_result"
    }
   ],
   "source": [
    "df['Age'].median()"
   ]
  },
  {
   "cell_type": "code",
   "execution_count": 37,
   "metadata": {},
   "outputs": [
    {
     "data": {
      "text/plain": [
       "57745.0"
      ]
     },
     "execution_count": 37,
     "metadata": {},
     "output_type": "execute_result"
    }
   ],
   "source": [
    "women_df = df[df['Gender'] == 'Woman']\n",
    "\n",
    "# Calculate the median ConvertedComp\n",
    "df['ConvertedComp'].median()"
   ]
  },
  {
   "cell_type": "code",
   "execution_count": 34,
   "metadata": {},
   "outputs": [
    {
     "name": "stdout",
     "output_type": "stream",
     "text": [
      "Number of outliers below Q1: 0\n"
     ]
    }
   ],
   "source": [
    "# Assuming 'df' is your DataFrame\n",
    "# Calculate the first quartile (Q1) and third quartile (Q3) of the 'Age' column\n",
    "Q1 = df['Age'].quantile(0.25)\n",
    "Q3 = df['Age'].quantile(0.75)\n",
    "\n",
    "# Calculate the interquartile range (IQR)\n",
    "IQR = Q3 - Q1\n",
    "\n",
    "# Define the lower bound for outliers below Q1\n",
    "lower_bound = Q1 - 1.5 * IQR\n",
    "\n",
    "# Count the number of outliers below Q1\n",
    "num_outliers_below_Q1 = df[df['Age'] < lower_bound].shape[0]\n",
    "\n",
    "print(\"Number of outliers below Q1:\", num_outliers_below_Q1)\n"
   ]
  },
  {
   "cell_type": "code",
   "execution_count": null,
   "metadata": {},
   "outputs": [],
   "source": []
  },
  {
   "cell_type": "code",
   "execution_count": 28,
   "metadata": {},
   "outputs": [
    {
     "data": {
      "image/png": "[encoded data removed]",
      "text/plain": [
       "<Figure size 640x480 with 1 Axes>"
      ]
     },
     "metadata": {},
     "output_type": "display_data"
    }
   ],
   "source": [
    "import matplotlib.pyplot as plt\n",
    "\n",
    "# Assuming 'df' is your DataFrame and 'Age' is the column containing age data\n",
    "# Plot the histogram of age data\n",
    "plt.hist(df['Age'], bins=10, edgecolor='black')  # Adjust the number of bins as needed\n",
    "plt.xlabel('Age')\n",
    "plt.ylabel('Frequency')\n",
    "plt.title('Histogram of Age')\n",
    "plt.show()\n"
   ]
  },
  {
   "cell_type": "code",
   "execution_count": 35,
   "metadata": {},
   "outputs": [
    {
     "name": "stdout",
     "output_type": "stream",
     "text": [
      "Mean ConvertedComp after removing outliers: 94163.72674531039\n"
     ]
    }
   ],
   "source": [
    "import numpy as np\n",
    "\n",
    "# Assuming 'df' is your DataFrame\n",
    "\n",
    "# Calculate z-scores for ConvertedComp\n",
    "z_scores = np.abs((df['ConvertedComp'] - df['ConvertedComp'].mean()) / df['ConvertedComp'].std())\n",
    "\n",
    "# Define a threshold for identifying outliers (e.g., z-score > 3)\n",
    "threshold = 3\n",
    "\n",
    "# Filter the DataFrame to exclude rows with outliers\n",
    "df_no_outliers = df[z_scores <= threshold]\n",
    "\n",
    "# Calculate the mean ConvertedComp after removing outliers\n",
    "mean_converted_comp_after = df_no_outliers['ConvertedComp'].mean()\n",
    "\n",
    "print(\"Mean ConvertedComp after removing outliers:\", mean_converted_comp_after)\n"
   ]
  },
  {
   "cell_type": "markdown",
   "metadata": {},
   "source": [
    "## Normalizing data\n"
   ]
  },
  {
   "cell_type": "markdown",
   "metadata": {},
   "source": [
    "There are two columns in the dataset that talk about compensation.\n",
    "\n",
    "One is \"CompFreq\". This column shows how often a developer is paid (Yearly, Monthly, Weekly).\n",
    "\n",
    "The other is \"CompTotal\". This column talks about how much the developer is paid per Year, Month, or Week depending upon his/her \"CompFreq\". \n",
    "\n",
    "This makes it difficult to compare the total compensation of the developers.\n",
    "\n",
    "In this section you will create a new column called 'NormalizedAnnualCompensation' which contains the 'Annual Compensation' irrespective of the 'CompFreq'.\n",
    "\n",
    "Once this column is ready, it makes comparison of salaries easy.\n"
   ]
  },
  {
   "cell_type": "markdown",
   "metadata": {},
   "source": [
    "<hr>\n"
   ]
  },
  {
   "cell_type": "markdown",
   "metadata": {},
   "source": [
    "List out the various categories in the column 'CompFreq'\n"
   ]
  },
  {
   "cell_type": "code",
   "execution_count": null,
   "metadata": {},
   "outputs": [],
   "source": [
    "# your code goes here\n"
   ]
  },
  {
   "cell_type": "markdown",
   "metadata": {},
   "source": [
    "Create a new column named 'NormalizedAnnualCompensation'. Use the hint given below if needed.\n"
   ]
  },
  {
   "cell_type": "markdown",
   "metadata": {},
   "source": [
    "Double click to see the **Hint**.\n",
    "\n",
    "<!--\n",
    "\n",
    "Use the below logic to arrive at the values for the column NormalizedAnnualCompensation.\n",
    "\n",
    "If the CompFreq is Yearly then use the exising value in CompTotal\n",
    "If the CompFreq is Monthly then multiply the value in CompTotal with 12 (months in an year)\n",
    "If the CompFreq is Weekly then multiply the value in CompTotal with 52 (weeks in an year)\n",
    "\n",
    "-->\n"
   ]
  },
  {
   "cell_type": "markdown",
   "metadata": {},
   "source": [
    "## Authors\n"
   ]
  },
  {
   "cell_type": "markdown",
   "metadata": {},
   "source": [
    "Ramesh Sannareddy\n"
   ]
  },
  {
   "cell_type": "markdown",
   "metadata": {},
   "source": [
    "### Other Contributors\n"
   ]
  },
  {
   "cell_type": "markdown",
   "metadata": {},
   "source": [
    "Rav Ahuja\n"
   ]
  },
  {
   "cell_type": "markdown",
   "metadata": {},
   "source": [
    "## Change Log\n"
   ]
  },
  {
   "cell_type": "markdown",
   "metadata": {},
   "source": [
    "| Date (YYYY-MM-DD) | Version | Changed By        | Change Description                 |\n",
    "| ----------------- | ------- | ----------------- | ---------------------------------- |\n",
    "| 2020-10-17        | 0.1     | Ramesh Sannareddy | Created initial version of the lab |\n"
   ]
  },
  {
   "cell_type": "markdown",
   "metadata": {},
   "source": [
    " Copyright © 2020 IBM Corporation. This notebook and its source code are released under the terms of the [MIT License](https://cognitiveclass.ai/mit-license?utm_medium=Exinfluencer&utm_source=Exinfluencer&utm_content=000026UJ&utm_term=10006555&utm_id=NA-SkillsNetwork-Channel-SkillsNetworkCoursesIBMDA0321ENSkillsNetwork928-2022-01-01&cm_mmc=Email_Newsletter-_-Developer_Ed%2BTech-_-WW_WW-_-SkillsNetwork-Courses-IBM-DA0321EN-SkillsNetwork-21426264&cm_mmca1=000026UJ&cm_mmca2=10006555&cm_mmca3=M12345678&cvosrc=email.Newsletter.M12345678&cvo_campaign=000026UJ).\n"
   ]
  }
 ],
 "metadata": {
  "kernelspec": {
   "display_name": "Python 3 (ipykernel)",
   "language": "python",
   "name": "python3"
  },
  "language_info": {
   "codemirror_mode": {
    "name": "ipython",
    "version": 3
   },
   "file_extension": ".py",
   "mimetype": "text/x-python",
   "name": "python",
   "nbconvert_exporter": "python",
   "pygments_lexer": "ipython3",
   "version": "3.11.4"
  }
 },
 "nbformat": 4,
 "nbformat_minor": 4
}
